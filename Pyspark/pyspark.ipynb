{
 "cells": [
  {
   "cell_type": "code",
   "execution_count": null,
   "id": "a19f42c5",
   "metadata": {},
   "outputs": [],
   "source": [
    "import os\n",
    "# os.environ[\"JAVA_HOME\"] = r\"C:\\Program Files\\Java\\jdk-11\"\n",
    "# os.environ[\"SPARK_HOME\"] = r\"C:\\Program Files\\spark\"\n",
    "# os.environ[\"HADOOP_HOME\"] = r\"C:\\hadoop\"\n",
    "\n",
    "import findspark\n",
    "findspark.init()\n",
    "\n",
    "\n",
    "import pyspark\n",
    "print(\"Spark Version:\", pyspark.__version__)\n",
    "print(\"HADOOP_HOME:\", os.environ.get(\"HADOOP_HOME\"))\n",
    "\n"
   ]
  },
  {
   "cell_type": "code",
   "execution_count": null,
   "id": "17c71855",
   "metadata": {},
   "outputs": [],
   "source": [
    "from pyspark.sql import SparkSession\n",
    "import pandas as pd\n",
    "from pyspark.sql.functions import col\n",
    "\n",
    "# Create SparkSession\n",
    "spark = SparkSession.builder.appName(\"Postgres to CSV\").getOrCreate()\n",
    "\n",
    "\n",
    "a={\n",
    "    \"Name\":[\"Alice\",\"Bob\"],\n",
    "    \"Age\":[25,30]\n",
    "}\n",
    "\n",
    "df1=pd.DataFrame(a)\n",
    "df=spark.createDataFrame(df1)\n",
    "df.show()\n",
    "\n",
    "data = [(\"Alice\", 25), (\"Bob\", 30)]\n",
    "columns = [\"Name\", \"Age\"]\n",
    "\n",
    "df = spark.createDataFrame(data, schema=columns)\n",
    "df.show()\n",
    "\n",
    "data = [{\"Name\": \"Alice\", \"Age\": 25}, {\"Name\": \"Bob\", \"Age\": 30}]\n",
    "df = spark.createDataFrame(data)\n",
    "df.show()\n",
    "\n",
    "df.filter(col(\"Age\") > 25).show()\n",
    "df.filter(df.Age > 25).show()"
   ]
  },
  {
   "cell_type": "code",
   "execution_count": 32,
   "id": "878b0ebe",
   "metadata": {},
   "outputs": [
    {
     "data": {
      "text/plain": [
       "[('index', 'string'),\n",
       " ('budget', 'string'),\n",
       " ('genres', 'string'),\n",
       " ('homepage', 'string'),\n",
       " ('id', 'string'),\n",
       " ('keywords', 'string'),\n",
       " ('original_language', 'string'),\n",
       " ('original_title', 'string'),\n",
       " ('overview', 'string'),\n",
       " ('popularity', 'string'),\n",
       " ('production_companies', 'string'),\n",
       " ('production_countries', 'string'),\n",
       " ('release_date', 'string'),\n",
       " ('revenue', 'string'),\n",
       " ('runtime', 'string'),\n",
       " ('spoken_languages', 'string'),\n",
       " ('status', 'string'),\n",
       " ('tagline', 'string'),\n",
       " ('title', 'string'),\n",
       " ('vote_average', 'string'),\n",
       " ('vote_count', 'string'),\n",
       " ('cast', 'string'),\n",
       " ('crew', 'string'),\n",
       " ('director', 'string')]"
      ]
     },
     "execution_count": 32,
     "metadata": {},
     "output_type": "execute_result"
    }
   ],
   "source": [
    "from pyspark.sql import SparkSession\n",
    "\n",
    "spark = SparkSession.builder.appName(\"test\").getOrCreate()\n",
    "\n",
    "df = spark.read.csv(r\"C:\\Users\\bharg\\Downloads\\movie_dataset.csv\", header=True, inferSchema=True)\n",
    "#df.show(1)\n",
    "\n",
    "df1 = spark.read.csv(r\"C:\\Users\\bharg\\Downloads\\movie_dataset.csv\", header=True)#, inferSchema=True)\n",
    "df.dtypes\n",
    "#df.printSchema()\n",
    "#df1.dtypes"
   ]
  }
 ],
 "metadata": {
  "kernelspec": {
   "display_name": "Python 3",
   "language": "python",
   "name": "python3"
  },
  "language_info": {
   "codemirror_mode": {
    "name": "ipython",
    "version": 3
   },
   "file_extension": ".py",
   "mimetype": "text/x-python",
   "name": "python",
   "nbconvert_exporter": "python",
   "pygments_lexer": "ipython3",
   "version": "3.11.9"
  }
 },
 "nbformat": 4,
 "nbformat_minor": 5
}
