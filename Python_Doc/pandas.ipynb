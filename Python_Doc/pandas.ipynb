{
 "cells": [
  {
   "cell_type": "code",
   "execution_count": 2,
   "metadata": {},
   "outputs": [],
   "source": [
    "#Pandas Series\n",
    "#A Pandas Series is a one-dimensional labeled array capable of holding data of any type (integer, string, float, Python objects, etc.).\n",
    "\n",
    "#Pandas DataFrame\n",
    "#Pandas DataFrame is a two-dimensional data structure with labeled axes (rows and columns)."
   ]
  },
  {
   "cell_type": "code",
   "execution_count": 13,
   "metadata": {},
   "outputs": [
    {
     "name": "stdout",
     "output_type": "stream",
     "text": [
      "Pandas Series:  Series([], dtype: object)\n",
      "pd Series:\n",
      " 0    g\n",
      "1    e\n",
      "2    e\n",
      "3    k\n",
      "4    s\n",
      "dtype: object\n"
     ]
    }
   ],
   "source": [
    "#Pandas Series\n",
    "import pandas as pd \n",
    "\n",
    "# Creating empty series \n",
    "ser = pd.Series() \n",
    "print(\"Pandas Series: \", ser) \n",
    "\n",
    "# simple array \n",
    "data = ['g', 'e', 'e', 'k', 's']\n",
    "  \n",
    "ser = pd.Series(data) \n",
    "print(\"pd Series:\\n\", ser)\n"
   ]
  },
  {
   "cell_type": "code",
   "execution_count": null,
   "metadata": {},
   "outputs": [
    {
     "name": "stdout",
     "output_type": "stream",
     "text": [
      "Empty DataFrame\n",
      "Columns: []\n",
      "Index: []\n",
      "        0\n",
      "0   Geeks\n",
      "1     For\n",
      "2   Geeks\n",
      "3      is\n",
      "4  portal\n",
      "5     for\n",
      "6   Geeks\n"
     ]
    }
   ],
   "source": [
    "#Pandas DataFrame\n",
    "import pandas as pd \n",
    "  \n",
    "# Calling DataFrame constructor \n",
    "df = pd.DataFrame() \n",
    "print(df)\n",
    "\n",
    "# list of strings \n",
    "lst = ['Geeks', 'For', 'Geeks', 'is', 'portal', 'for', 'Geeks'] \n",
    "  \n",
    "# Calling DataFrame constructor on list \n",
    "df = pd.DataFrame(lst) \n",
    "print(df)\n"
   ]
  },
  {
   "cell_type": "code",
   "execution_count": null,
   "metadata": {},
   "outputs": [],
   "source": []
  }
 ],
 "metadata": {
  "kernelspec": {
   "display_name": "Python 3",
   "language": "python",
   "name": "python3"
  },
  "language_info": {
   "codemirror_mode": {
    "name": "ipython",
    "version": 3
   },
   "file_extension": ".py",
   "mimetype": "text/x-python",
   "name": "python",
   "nbconvert_exporter": "python",
   "pygments_lexer": "ipython3",
   "version": "3.12.4"
  }
 },
 "nbformat": 4,
 "nbformat_minor": 2
}
