{
 "cells": [
  {
   "cell_type": "markdown",
   "id": "e30467d3",
   "metadata": {},
   "source": [
    "# ___List:-___  List items are ordered, changeable, and allow duplicate values.\n",
    "       List items are indexed, the first item has index [0], the second item has index [1] etc."
   ]
  },
  {
   "cell_type": "code",
   "execution_count": 27,
   "id": "678aa93e",
   "metadata": {},
   "outputs": [
    {
     "name": "stdout",
     "output_type": "stream",
     "text": [
      "[1, 2, 3]\n",
      "[4, 5, 6]\n"
     ]
    }
   ],
   "source": [
    "# __how many ways we can create a list?__\n",
    "# We can create a list using square brackets [] or the list() constructor.\n",
    "list1 = [1, 2, 3]\n",
    "print(list1)\n",
    "list2 = list((4, 5, 6))\n",
    "print(list2)"
   ]
  },
  {
   "cell_type": "markdown",
   "id": "11159574",
   "metadata": {},
   "source": [
    "# __Access items__\n",
    "List items are indexed and you can access them by referring to the index number:"
   ]
  },
  {
   "cell_type": "code",
   "execution_count": 32,
   "id": "49dc1af2",
   "metadata": {},
   "outputs": [
    {
     "name": "stdout",
     "output_type": "stream",
     "text": [
      "Input List:- [1, 2, 3, 4, 5, 'gif', 'hello']\n",
      "Accessing first element:- 1\n",
      "Accessing elements from index 1 to 4:- [2, 3, 4, 5]\n",
      "Accessing elements from index 2 to end:- [3, 4, 5, 'gif', 'hello']\n",
      "Accessing elements from start to index 3:- [1, 2, 3, 4]\n",
      "Accessing elements with step 2:- [1, 3, 5, 'hello']\n",
      "Accessing last element:- hello\n",
      "Accessing elements in reverse order:- ['hello', 'gif', 5, 4, 3, 2, 1]\n",
      "Input nested_list:- [1, 2, [3, 4], 5, ['gif', 'hello']]\n",
      "Accessing elements from nested list:- [3, 4]\n",
      "Accessing elements from nested list:- gif\n",
      "Accessing elements from mixed_list:- value\n",
      "Accessing elements from mixed_list:- 5\n",
      "Creating list with repeated elements:- [2, 2, 2, 2, 2]\n"
     ]
    }
   ],
   "source": [
    "List = [1, 2, 3, 4, 5,'gif','hello']\n",
    "print(\"Input List:-\",List)\n",
    "print(\"Accessing first element:-\",List[0])  # Accessing first element\n",
    "print(\"Accessing elements from index 1 to 4:-\",List[1:5])  # Accessing elements from index 1 to 4\n",
    "print(\"Accessing elements from index 2 to end:-\",List[2:])  # Accessing elements from index 2 to end\n",
    "print(\"Accessing elements from start to index 3:-\",List[:4])  # Accessing elements from start to index 3\n",
    "print(\"Accessing elements with step 2:-\",List[0::2])  # Accessing elements with step 2\n",
    "print(\"Accessing last element:-\",List[-1])  # Accessing last element\n",
    "print(\"Accessing elements in reverse order:-\",List[::-1])  # Accessing elements in reverse order\n",
    "\n",
    "#Nested list example\n",
    "nested_list = [1, 2, [3, 4], 5, ['gif', 'hello']]\n",
    "print(\"Input nested_list:-\",nested_list)\n",
    "print(\"Accessing elements from nested list:-\",nested_list[2])\n",
    "print(\"Accessing elements from nested list:-\",nested_list[4][0])\n",
    "\n",
    "# How many types can we store in a list?\n",
    "# We can store any data type in a list, including integers, strings, floats, and even other lists.\n",
    "mixed_list = [1, 'hello', 3.14, [1, 2, 3], (4, 5), {'key': 'value'}]\n",
    "print(\"Accessing elements from mixed_list:-\",mixed_list[-1]['key'])\n",
    "print(\"Accessing elements from mixed_list:-\",mixed_list[4][1])\n",
    "\n",
    "\n",
    "\n",
    "#Creating list with repeated elements\n",
    "a=[2]*5\n",
    "print(\"Creating list with repeated elements:-\",a)"
   ]
  },
  {
   "cell_type": "code",
   "execution_count": 44,
   "id": "38e91364",
   "metadata": {},
   "outputs": [
    {
     "name": "stdout",
     "output_type": "stream",
     "text": [
      "Found 'nitya' in the list.\n",
      "Search operation completed.\n",
      "'nitya' is found in the list.\n"
     ]
    }
   ],
   "source": [
    "a=['Nitya','bharggav','harika']\n",
    "c=input(\"Enter the name to be searched:- \").lower()\n",
    "try:\n",
    "    if c in map(str.lower, a):\n",
    "        print(f\"Found '{c}' in the list.\")\n",
    "    elif c in map(str.lower, a):\n",
    "        print(f\"Found '{c}' in the list.\")\n",
    "    elif c in map(str.upper, a):\n",
    "        print(f\"Found '{c}' in the list.\")\n",
    "    else:\n",
    "        print(\"No match found.\")\n",
    "except Exception as e:\n",
    "    print(\"Error:\", e)\n",
    "finally:\n",
    "    print(\"Search operation completed.\")\n",
    "\n",
    "\n",
    "try:\n",
    "    if c not in map(str.lower, a):\n",
    "        print(f\"'{c}' is not found in the list.\")\n",
    "    else:\n",
    "        print(f\"'{c}' is found in the list.\")\n",
    "except Exception as e:\n",
    "    print(\"Error:\", e)"
   ]
  },
  {
   "cell_type": "markdown",
   "id": "7f3c71f9",
   "metadata": {},
   "source": [
    "# ___Adding Elements into list___\n",
    "\n",
    "* append() :- Adds an elements at the end of the list.\n",
    "* extend() :- Adds multiple elements to the end of the list.\n",
    "* insert() :- Adds an element at a specific position"
   ]
  },
  {
   "cell_type": "code",
   "execution_count": 29,
   "id": "ea0d9543",
   "metadata": {},
   "outputs": [
    {
     "name": "stdout",
     "output_type": "stream",
     "text": [
      "['harika', 'Bharggav', 'nitya', 27, 28]\n"
     ]
    }
   ],
   "source": [
    "# Empty list\n",
    "empty_list = []\n",
    "\n",
    "try:\n",
    "    empty_list.append('harika') #empty_list.append('nitya','harika') TypeError: list.append() takes exactly one argument (2 given)\n",
    "    empty_list.append('nitya')\n",
    "    empty_list.insert(1,'Bharggav')\n",
    "    empty_list.extend([27, 28])#b=[27, 28] insted of assign to list directly passing the list to extend method\n",
    "except Exception as e:\n",
    "    print(e)\n",
    "finally:\n",
    "    print(empty_list)"
   ]
  },
  {
   "cell_type": "markdown",
   "id": "5422003a",
   "metadata": {},
   "source": [
    "# __h__"
   ]
  }
 ],
 "metadata": {
  "kernelspec": {
   "display_name": "Python 3",
   "language": "python",
   "name": "python3"
  },
  "language_info": {
   "codemirror_mode": {
    "name": "ipython",
    "version": 3
   },
   "file_extension": ".py",
   "mimetype": "text/x-python",
   "name": "python",
   "nbconvert_exporter": "python",
   "pygments_lexer": "ipython3",
   "version": "3.11.9"
  }
 },
 "nbformat": 4,
 "nbformat_minor": 5
}
